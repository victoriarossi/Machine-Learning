{
 "cells": [
  {
   "cell_type": "code",
   "execution_count": 35,
   "metadata": {},
   "outputs": [
    {
     "data": {
      "text/plain": [
       "array([[ 1.01571202],\n",
       "       [ 0.29224195],\n",
       "       [ 0.37909979],\n",
       "       [-0.6065928 ],\n",
       "       [-0.00639911],\n",
       "       [-0.02669739],\n",
       "       [-0.16022174],\n",
       "       [-0.07962807],\n",
       "       [-0.20102501]])"
      ]
     },
     "execution_count": 35,
     "metadata": {},
     "output_type": "execute_result"
    }
   ],
   "source": [
    "import numpy as np\n",
    "from scipy.io import loadmat\n",
    "import matplotlib.pyplot as plt \n",
    "\n",
    "in_data = loadmat('face_emotion_data.mat')\n",
    "X = in_data['X']\n",
    "y = in_data['y']\n",
    "\n",
    "U,s,VT = np.linalg.svd(X, full_matrices= False)\n",
    "arr1 = np.arange(81).reshape(9,9)\n",
    "S_matrix = np.zeros_like(arr1) \n",
    "np.fill_diagonal(S_matrix, s)\n",
    "w = np.transpose(VT)@np.linalg.inv(S_matrix)@np.transpose(U)@y\n",
    "\n",
    "y_hat = np.sign(X@w) # b)With y_hat I can identify if the face is happy or sad\n",
    "\n",
    "np.hstack((y_hat,y))\n"
   ]
  },
  {
   "cell_type": "code",
   "execution_count": 36,
   "metadata": {},
   "outputs": [
    {
     "data": {
      "text/plain": [
       "array([[ 5.6455856 ],\n",
       "       [-4.16572338],\n",
       "       [-1.63547687],\n",
       "       [ 6.24709159],\n",
       "       [-3.28039126],\n",
       "       [ 0.39327948],\n",
       "       [-0.37757024],\n",
       "       [-0.32271646],\n",
       "       [-0.567622  ]])"
      ]
     },
     "execution_count": 36,
     "metadata": {},
     "output_type": "execute_result"
    }
   ],
   "source": [
    "w_prime = np.transpose(U)@y\n",
    "w_prime\n",
    "# Most important is w4\n",
    "# Then w1\n",
    "# THem w2"
   ]
  },
  {
   "cell_type": "code",
   "execution_count": 44,
   "metadata": {},
   "outputs": [
    {
     "data": {
      "text/plain": [
       "3"
      ]
     },
     "execution_count": 44,
     "metadata": {},
     "output_type": "execute_result"
    }
   ],
   "source": [
    "# Error\n",
    "len([j for k in (y_hat-y) for j in k if j != 0])"
   ]
  }
 ],
 "metadata": {
  "interpreter": {
   "hash": "aee8b7b246df8f9039afb4144a1f6fd8d2ca17a180786b69acc140d282b71a49"
  },
  "kernelspec": {
   "display_name": "Python 3 (ipykernel)",
   "language": "python",
   "name": "python3"
  },
  "language_info": {
   "codemirror_mode": {
    "name": "ipython",
    "version": 3
   },
   "file_extension": ".py",
   "mimetype": "text/x-python",
   "name": "python",
   "nbconvert_exporter": "python",
   "pygments_lexer": "ipython3",
   "version": "3.9.7"
  }
 },
 "nbformat": 4,
 "nbformat_minor": 2
}
