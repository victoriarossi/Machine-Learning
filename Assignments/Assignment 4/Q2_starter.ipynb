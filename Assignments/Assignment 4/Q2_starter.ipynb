{
 "cells": [
  {
   "cell_type": "code",
   "execution_count": 6,
   "metadata": {},
   "outputs": [],
   "source": [
    "import numpy as np\n",
    "\n",
    "def ista_solve_hot( A, d, la_array ):\n",
    "    # ista_solve_hot: Iterative soft-thresholding for multiple values of\n",
    "    # lambda with hot start for each case - the converged value for the previous\n",
    "    # value of lambda is used as an initial condition for the current lambda.\n",
    "    # this function solves the minimization problem\n",
    "    # Minimize |Ax-d|_2^2 + lambda*|x|_1 (Lasso regression)\n",
    "    # using iterative soft-thresholding.\n",
    "    max_iter = 10**4\n",
    "    tol = 10**(-3)\n",
    "    tau = 1/np.linalg.norm(A,2)**2\n",
    "    n = A.shape[1]\n",
    "    w = np.zeros((n,1))\n",
    "    num_lam = len(la_array)\n",
    "    X = np.zeros((n, num_lam))\n",
    "    for i, each_lambda in enumerate(la_array):\n",
    "        for j in range(max_iter):\n",
    "            z = w - tau*(A.T@(A@w-d))\n",
    "            w_old = w\n",
    "            w = np.sign(z) * np.clip(np.abs(z)-tau*each_lambda/2, 0, np.inf)\n",
    "            X[:, i:i+1] = w\n",
    "            if np.linalg.norm(w - w_old) < tol:\n",
    "                break\n",
    "    return X\n"
   ]
  },
  {
   "cell_type": "code",
   "execution_count": 7,
   "metadata": {},
   "outputs": [
    {
     "name": "stdout",
     "output_type": "stream",
     "text": [
      "30 30 235\n",
      "30 30 235\n",
      "30 30 235\n",
      "30 30 235\n",
      "30 29 236\n",
      "29 29 237\n",
      "29 29 237\n",
      "29 30 236\n"
     ]
    },
    {
     "data": {
      "text/plain": [
       "8"
      ]
     },
     "execution_count": 7,
     "metadata": {},
     "output_type": "execute_result"
    }
   ],
   "source": [
    "## Breast Cancer LASSO Exploration\n",
    "## Prepare workspace\n",
    "from scipy.io import loadmat\n",
    "from sklearn import linear_model\n",
    "\n",
    "import numpy as np\n",
    "X = loadmat(\"BreastCancer.mat\")['X']\n",
    "y = loadmat(\"BreastCancer.mat\")['y']\n",
    "\n",
    "##  10-fold CV \n",
    "\n",
    "# each row of setindices denotes the starting an ending index for one\n",
    "# partition of the data: 5 sets of 30 samples and 5 sets of 29 samples\n",
    "setindices = [[1,30],[31,60],[61,90],[91,120],[121,150],[151,179],[180,208],[209,237],[238,266],[267,295]]\n",
    "\n",
    "# each row of holdoutindices denotes the partitions that are held out from\n",
    "# the training set\n",
    "holdoutindices = [[1,2],[2,3],[3,4],[4,5],[5,6],[7,8],[9,10],[10,1]]\n",
    "\n",
    "W = []\n",
    "lam_values = [3.5, 4, 4.5,5,5.5,6,6.5,7,7.5]\n",
    "cases = len(holdoutindices)\n",
    "\n",
    "# be sure to initiate the quantities you want to measure before looping\n",
    "# through the various training, validation, and test partitions\n",
    "#\n",
    "# \n",
    "#\n",
    "errors = []\n",
    "# Loop over various cases\n",
    "for j in range(cases):\n",
    "    # row indices of first validation set\n",
    "    v1_ind = np.arange(setindices[holdoutindices[j][0]-1][0]-1,setindices[holdoutindices[j][0]-1][1])\n",
    "    \n",
    "    # row indices of second validation set\n",
    "    v2_ind = np.arange(setindices[holdoutindices[j][1]-1][0]-1,setindices[holdoutindices[j][1]-1][1])\n",
    "    \n",
    "    # row indices of training set\n",
    "    trn_ind = list(set(range(295))-set(v1_ind)-set(v2_ind))\n",
    "    \n",
    "    # define matrix of features and labels corresponding to first\n",
    "    # validation set\n",
    "    Av1 = X[v1_ind,:]\n",
    "    bv1 = y[v1_ind]\n",
    "    \n",
    "    # define matrix of features and labels corresponding to second\n",
    "    # validation set\n",
    "    Av2 = X[v2_ind,:]\n",
    "    bv2 = y[v2_ind]\n",
    "    \n",
    "    # define matrix of features and labels corresponding to the \n",
    "    # training set\n",
    "    At = X[trn_ind,:]\n",
    "    bt = y[trn_ind]\n",
    "\n",
    "    # clf = linear_model.Lasso()\n",
    "    # clf.fit()\n",
    "    # print(clf.coef_)\n",
    "\n",
    "    w = ista_solve_hot(At,bt,lam_values)\n",
    "\n",
    "    errors.append([np.mean(np.abs(Av1@i - bv1)) for i in w.T])\n",
    "\n",
    "    W.append(w)\n",
    "\n",
    "    print(len(v1_ind), len(v2_ind), len(trn_ind))\n",
    "# Use training data to learn classifier\n",
    "#\n",
    "# Find best lambda value using first validation set, then evaluate\n",
    "# performance on second validation set, and accumulate performance metrics\n",
    "# over all cases partitions\n",
    "cases"
   ]
  },
  {
   "cell_type": "code",
   "execution_count": 8,
   "metadata": {},
   "outputs": [
    {
     "data": {
      "text/plain": [
       "array([[1., 0., 0., 0., 0.],\n",
       "       [0., 1., 0., 0., 0.],\n",
       "       [0., 0., 1., 0., 0.],\n",
       "       [0., 0., 0., 1., 0.],\n",
       "       [0., 0., 0., 0., 1.]])"
      ]
     },
     "execution_count": 8,
     "metadata": {},
     "output_type": "execute_result"
    }
   ],
   "source": [
    "np.eye(5)"
   ]
  },
  {
   "cell_type": "code",
   "execution_count": 9,
   "metadata": {},
   "outputs": [
    {
     "data": {
      "text/plain": [
       "(7, 8)"
      ]
     },
     "execution_count": 9,
     "metadata": {},
     "output_type": "execute_result"
    }
   ],
   "source": [
    "min_i = None\n",
    "min_j = None\n",
    "min_error = None\n",
    "for i in range(len(errors)):\n",
    "    for j in range(len(errors[i])):\n",
    "        if min_error == None or min_error >= errors[i][j]:\n",
    "            min_i = i\n",
    "            min_j = j\n",
    "            min_error = errors[i][j]\n",
    "min_i , min_j"
   ]
  },
  {
   "cell_type": "code",
   "execution_count": 10,
   "metadata": {},
   "outputs": [
    {
     "name": "stdout",
     "output_type": "stream",
     "text": [
      "Error rate = 0.41929925330269957\n",
      "Residual error = 64.48843268972031\n"
     ]
    }
   ],
   "source": [
    "holdoutindices[min_i]\n",
    "\n",
    "v1_ind = np.arange(setindices[holdoutindices[min_i][0]-1][0]-1,setindices[holdoutindices[min_i][0]-1][1])\n",
    "    \n",
    "    # row indices of second validation set\n",
    "v2_ind = np.arange(setindices[holdoutindices[min_i][1]-1][0]-1,setindices[holdoutindices[min_i][1]-1][1])\n",
    "    \n",
    "\n",
    "trn_ind = list(set(range(295))-set(v1_ind)-set(v2_ind))\n",
    "\n",
    "    # define matrix of features and labels corresponding to first\n",
    "    # validation set\n",
    "Av1 = X[v1_ind,:]\n",
    "bv1 = y[v1_ind]\n",
    "    \n",
    "    # define matrix of features and labels corresponding to second\n",
    "    # validation set\n",
    "Av2 = X[v2_ind,:]\n",
    "bv2 = y[v2_ind]\n",
    "\n",
    "At = X[trn_ind,:]\n",
    "bt = y[trn_ind]\n",
    "\n",
    "    # clf = linear_model.Lasso()\n",
    "    # clf.fit()\n",
    "    # print(clf.coef_)\n",
    "\n",
    "w = ista_solve_hot(At,bt,[lam_values[min_j]])\n",
    "\n",
    "\n",
    "y_hat_1 = [np.sign(Av1@i) - bv1 for i in w.T] \n",
    "y_hat_2 = [np.sign(Av2@i) - bv2 for i in w.T] \n",
    "y_hat_1 = np.squeeze(np.asarray(y_hat_1[0]))\n",
    "y_hat_2 = np.squeeze(np.asarray(y_hat_2[0]))\n",
    "misclassifications = 0\n",
    "total = 0\n",
    "for i in y_hat_1:\n",
    "    for j in i:\n",
    "        if j != 0:\n",
    "            misclassifications += 1\n",
    "        total += 1\n",
    "\n",
    "for i in y_hat_2:\n",
    "    for j in i:\n",
    "        if j != 0:\n",
    "            misclassifications += 1\n",
    "        total += 1\n",
    "\n",
    "misclassifications = misclassifications / total\n",
    "\n",
    "residual = [np.linalg.norm(Av1@i - bv1) for i in w.T][0] + [np.linalg.norm(Av2@i - bv2) for i in w.T][0]\n",
    "\n",
    "print(f\"Error rate (Lasso) = {misclassifications}\")\n",
    "print(f\"Residual error (Lasso) = {residual}\")"
   ]
  },
  {
   "cell_type": "code",
   "execution_count": 12,
   "metadata": {},
   "outputs": [
    {
     "data": {
      "text/plain": [
       "array([[-0.00530127],\n",
       "       [ 0.00781243],\n",
       "       [ 0.01010464],\n",
       "       ...,\n",
       "       [-0.00312042],\n",
       "       [-0.00947405],\n",
       "       [-0.00375704]])"
      ]
     },
     "execution_count": 12,
     "metadata": {},
     "output_type": "execute_result"
    }
   ],
   "source": [
    "w_ridge = np.linalg.inv(At.T @ At + (lam_values[min_j] * np.eye(len(At.T @ At)))) \n",
    "w_ridge = w_ridge @ At.T \n",
    "w_ridge = w_ridge @ bt\n",
    "w_ridge"
   ]
  },
  {
   "cell_type": "code",
   "execution_count": 13,
   "metadata": {},
   "outputs": [
    {
     "name": "stdout",
     "output_type": "stream",
     "text": [
      "Error rate (Ridge) = 0.4330844342331993\n",
      "Residual error (Ridge) = 67.60349496870052\n"
     ]
    }
   ],
   "source": [
    "y_hat_1 = [np.sign(Av1@i) - bv1 for i in w_ridge.T] \n",
    "y_hat_2 = [np.sign(Av2@i) - bv2 for i in w_ridge.T] \n",
    "y_hat_1 = np.squeeze(np.asarray(y_hat_1[0]))\n",
    "y_hat_2 = np.squeeze(np.asarray(y_hat_2[0]))\n",
    "misclassifications = 0\n",
    "total = 0\n",
    "for i in y_hat_1:\n",
    "    for j in i:\n",
    "        if j != 0:\n",
    "            misclassifications += 1\n",
    "        total += 1\n",
    "\n",
    "for i in y_hat_2:\n",
    "    for j in i:\n",
    "        if j != 0:\n",
    "            misclassifications += 1\n",
    "        total += 1\n",
    "\n",
    "misclassifications = misclassifications / total\n",
    "\n",
    "residual = [np.linalg.norm(Av1@i - bv1) for i in w_ridge.T][0] + [np.linalg.norm(Av2@i - bv2) for i in w_ridge.T][0]\n",
    "\n",
    "print(f\"Error rate (Ridge) = {misclassifications}\")\n",
    "print(f\"Residual error (Ridge) = {residual}\")"
   ]
  }
 ],
 "metadata": {
  "kernelspec": {
   "display_name": "Python 3 (ipykernel)",
   "language": "python",
   "name": "python3"
  },
  "language_info": {
   "codemirror_mode": {
    "name": "ipython",
    "version": 3
   },
   "file_extension": ".py",
   "mimetype": "text/x-python",
   "name": "python",
   "nbconvert_exporter": "python",
   "pygments_lexer": "ipython3",
   "version": "3.9.7"
  }
 },
 "nbformat": 4,
 "nbformat_minor": 4
}
