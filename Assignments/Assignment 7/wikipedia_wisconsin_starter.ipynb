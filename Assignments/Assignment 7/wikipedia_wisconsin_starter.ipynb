{
 "cells": [
  {
   "cell_type": "code",
   "execution_count": 8,
   "metadata": {},
   "outputs": [],
   "source": [
    "import numpy as np\n",
    "from scipy.sparse import csc_matrix\n",
    "from scipy.sparse.linalg import eigs\n",
    "\n",
    "edges_file = open('wisconsin_edges.csv', \"r\")\n",
    "nodes_file = open('wisconsin_nodes.csv', \"r\")\n",
    "\n",
    "# create a dictionary where nodes_dict[i] = name of wikipedia page\n",
    "nodes_dict = {}\n",
    "for line in nodes_file:\n",
    "    nodes_dict[int(line.split(',',1)[0].strip())] = line.split(',',1)[1].strip()\n",
    "\n",
    "node_count = len(nodes_dict)\n",
    "\n",
    "# create adjacency matrix\n",
    "A = np.zeros((node_count, node_count))\n",
    "for line in edges_file:\n",
    "    from_node = int(line.split(',')[0].strip())\n",
    "    to_node = int(line.split(',')[1].strip())\n",
    "    A[to_node, from_node] = 1.0\n",
    "\n",
    "## Add code below to (1) prevent traps and (2) find the most important pages     \n",
    "# Hint -- instead of computing the entire eigen-decomposition of a matrix X using\n",
    "# s, E = np.linalg.eig(A)\n",
    "# you can compute just the first eigenvector with:\n",
    "# s, E = eigs(csc_matrix(A), k = 1)"
   ]
  },
  {
   "cell_type": "code",
   "execution_count": 9,
   "metadata": {},
   "outputs": [
    {
     "data": {
      "text/plain": [
       "array([[0.001, 0.001, 0.001, ..., 0.001, 0.001, 0.001],\n",
       "       [0.001, 0.001, 0.001, ..., 0.001, 0.001, 0.001],\n",
       "       [0.001, 0.001, 0.001, ..., 0.001, 0.001, 0.001],\n",
       "       ...,\n",
       "       [0.001, 0.001, 0.001, ..., 0.001, 0.001, 0.001],\n",
       "       [0.001, 0.001, 0.001, ..., 0.001, 0.001, 0.001],\n",
       "       [0.001, 0.001, 0.001, ..., 0.001, 0.001, 0.001]])"
      ]
     },
     "execution_count": 9,
     "metadata": {},
     "output_type": "execute_result"
    }
   ],
   "source": [
    "for i in range(len(A)):\n",
    "    for j in range(len(A)):\n",
    "        A[i][j] += 0.001\n",
    "A"
   ]
  },
  {
   "cell_type": "code",
   "execution_count": 13,
   "metadata": {},
   "outputs": [],
   "source": [
    "A_norm = A/A.sum(axis=0, keepdims=1)"
   ]
  },
  {
   "cell_type": "code",
   "execution_count": 15,
   "metadata": {},
   "outputs": [
    {
     "data": {
      "text/plain": [
       "(array([1.+0.j]),\n",
       " array([[-0.00094793+0.j],\n",
       "        [-0.00113526+0.j],\n",
       "        [-0.00094793+0.j],\n",
       "        ...,\n",
       "        [-0.01864669+0.j],\n",
       "        [-0.00164875+0.j],\n",
       "        [-0.00094793+0.j]]))"
      ]
     },
     "execution_count": 15,
     "metadata": {},
     "output_type": "execute_result"
    }
   ],
   "source": [
    "s,E = eigs(csc_matrix(A_norm),k=1)\n",
    "s,E"
   ]
  },
  {
   "cell_type": "code",
   "execution_count": 16,
   "metadata": {},
   "outputs": [],
   "source": [
    "E = abs(E)"
   ]
  },
  {
   "cell_type": "code",
   "execution_count": 20,
   "metadata": {},
   "outputs": [
    {
     "name": "stdout",
     "output_type": "stream",
     "text": [
      "B:  5089\n",
      "C:  1345\n"
     ]
    }
   ],
   "source": [
    "e_dict = {}\n",
    "\n",
    "for i in range(len(E)):\n",
    "    e_dict[i] = E[i]\n",
    "    \n",
    "e_dict_sorted = sorted(e_dict.items(), key=lambda x : x[1], reverse=True)\n",
    "print(\"B: \" , e_dict_sorted[0][0])\n",
    "print(\"C: \", e_dict_sorted[2][0])"
   ]
  }
 ],
 "metadata": {
  "kernelspec": {
   "display_name": "Python 3 (ipykernel)",
   "language": "python",
   "name": "python3"
  },
  "language_info": {
   "codemirror_mode": {
    "name": "ipython",
    "version": 3
   },
   "file_extension": ".py",
   "mimetype": "text/x-python",
   "name": "python",
   "nbconvert_exporter": "python",
   "pygments_lexer": "ipython3",
   "version": "3.9.7"
  }
 },
 "nbformat": 4,
 "nbformat_minor": 2
}
