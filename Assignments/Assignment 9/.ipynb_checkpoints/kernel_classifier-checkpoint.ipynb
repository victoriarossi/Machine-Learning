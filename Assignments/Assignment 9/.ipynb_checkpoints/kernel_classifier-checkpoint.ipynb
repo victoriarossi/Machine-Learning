{
 "cells": [
  {
   "cell_type": "code",
   "execution_count": 27,
   "id": "d567738c",
   "metadata": {},
   "outputs": [],
   "source": [
    "import numpy as np\n",
    "import pandas as pd\n",
    "import matplotlib.pyplot as plt\n",
    "from scipy.io import loadmat\n",
    "from sklearn.metrics import accuracy_score\n",
    "from sklearn.model_selection import cross_val_score\n",
    "import random\n",
    "from sklearn.model_selection import train_test_split\n",
    "\n",
    "dataset = loadmat('face_emotion_data.mat')\n",
    "\n",
    "X, y = dataset['X'], dataset['y']\n",
    "n = len(X)\n",
    "\n",
    "y[y==-1] = 0  # use 0/1 for labels instead of -1/+1\n",
    "X = np.hstack((np.ones((n,1)), X))  # append a column of ones\n",
    "n, p = np.shape(X)"
   ]
  },
  {
   "cell_type": "code",
   "execution_count": 17,
   "id": "7376f400",
   "metadata": {},
   "outputs": [],
   "source": [
    "# Train Classifier 1\n",
    "sigmas = [i+1 for i in range(30)]\n",
    "lam = 0.5\n",
    "\n",
    "distsq=np.zeros((n,n),dtype=float)\n",
    "\n",
    "for i in range(0,n):\n",
    "    for j in range(0,n):\n",
    "        d = np.linalg.norm(X[i,:]-X[j,:])\n",
    "        distsq[i,j]=d**2\n",
    "\n",
    "accuracy = []\n",
    "Y_hat = np.zeros((n,n))\n",
    "first = True\n",
    "# Predict labels\n",
    "for sigma in sigmas:\n",
    "    y_hat = []\n",
    "    K = np.exp(-distsq/(2*sigma**2))\n",
    "    alpha = np.linalg.inv(K+lam*np.identity(n))@y\n",
    "    for i in range(len(X)):\n",
    "        for j in range(len(X)):\n",
    "            Y_hat[i][j] = np.exp(-np.linalg.norm(X[i] - X[j])**2/(2*sigma**2))*alpha[i][0]\n",
    "        y_hat.append(Y_hat[i].sum())\n",
    "    y_aux = [1 if i > 0.5 else 0 for i in y_hat ]\n",
    "    accuracy.append(accuracy_score(y_aux,y))\n",
    "    if first and accuracy_score(y_aux,y) == 1.0:\n",
    "        no_error_sigma = sigma\n",
    "        first = False"
   ]
  },
  {
   "cell_type": "code",
   "execution_count": 18,
   "id": "9c95abf0",
   "metadata": {},
   "outputs": [
    {
     "data": {
      "text/plain": [
       "<AxesSubplot:xlabel='Sigmas', ylabel='Accuracy'>"
      ]
     },
     "execution_count": 18,
     "metadata": {},
     "output_type": "execute_result"
    },
    {
     "data": {
      "image/png": "[encoded data removed]",
      "text/plain": [
       "<Figure size 432x288 with 1 Axes>"
      ]
     },
     "metadata": {
      "needs_background": "light"
     },
     "output_type": "display_data"
    }
   ],
   "source": [
    "df = pd.DataFrame({\"Sigmas\":sigmas,\"Accuracy\":accuracy})\n",
    "df.plot.scatter(\"Sigmas\",\"Accuracy\")"
   ]
  },
  {
   "cell_type": "code",
   "execution_count": 20,
   "id": "8a78403b",
   "metadata": {},
   "outputs": [
    {
     "name": "stdout",
     "output_type": "stream",
     "text": [
      "We achieve a 100% accuracy on the training set with a sigma of 24\n"
     ]
    }
   ],
   "source": [
    "print(\"We achieve a 100% accuracy on the training set with a sigma of\",no_error_sigma)"
   ]
  },
  {
   "cell_type": "markdown",
   "id": "f7314480",
   "metadata": {},
   "source": [
    "#### c)"
   ]
  },
  {
   "cell_type": "code",
   "execution_count": 21,
   "id": "6bd4ca6e",
   "metadata": {},
   "outputs": [],
   "source": [
    "X_train, X_test, Y_train, Y_test = train_test_split(X, y, test_size = 0.2, random_state=42)\n",
    "n = len(X_train)\n",
    "distsq=np.zeros((n,n),dtype=float)\n",
    "\n",
    "for i in range(0,n):\n",
    "    for j in range(0,n):\n",
    "        d = np.linalg.norm(X_train[i,:]-X_train[j,:])\n",
    "        distsq[i,j]=d**2\n",
    "\n",
    "accuracy = []\n",
    "best_acc = None\n",
    "best_sigma = None\n",
    "Y_hat = np.zeros((n,n))\n",
    "# Calculate best sigma \n",
    "for sigma in sigmas:\n",
    "    y_hat = []\n",
    "    K = np.exp(-distsq/(2*sigma**2))\n",
    "    alpha = np.linalg.inv(K+lam*np.identity(n))@Y_train\n",
    "    for i in range(n):\n",
    "        for j in range(n):\n",
    "            Y_hat[i][j] = np.exp(-np.linalg.norm(X[i] - X[j])**2/(2*sigma**2))*alpha[i][0]\n",
    "        y_hat.append(Y_hat[i].sum())\n",
    "    y_aux = [1 if i > 0.5 else 0 for i in y_hat ]\n",
    "    current_acc = accuracy_score(y_aux,Y_train)\n",
    "    accuracy.append(current_acc)\n",
    "    if best_acc == None or best_acc < current_acc:\n",
    "        best_acc = current_acc\n",
    "        best_sigma = sigma"
   ]
  },
  {
   "cell_type": "code",
   "execution_count": 23,
   "id": "5a45cdd7",
   "metadata": {},
   "outputs": [
    {
     "data": {
      "text/plain": [
       "1.0"
      ]
     },
     "execution_count": 23,
     "metadata": {},
     "output_type": "execute_result"
    }
   ],
   "source": [
    "n = len(X_test)\n",
    "distsq=np.zeros((n,n),dtype=float)\n",
    "\n",
    "for i in range(0,n):\n",
    "    for j in range(0,n):\n",
    "        d = np.linalg.norm(X_train[i,:]-X_train[j,:])\n",
    "        distsq[i,j]=d**2\n",
    "        \n",
    "K = np.exp(-distsq/(2*best_sigma**2))\n",
    "alpha = np.linalg.inv(K+lam*np.identity(n))@Y_test\n",
    "Y_hat = np.zeros((n,n))\n",
    "y_hat = []\n",
    "for i in range(n):\n",
    "    for j in range(n):\n",
    "        Y_hat[i][j] = np.exp(-np.linalg.norm(X_test[i] - X[j])**2/(2*sigma**2))*alpha[i][0]\n",
    "    y_hat.append(Y_hat[i].sum())\n",
    "y_aux = [1 if i > 0.5 else 0 for i in y_hat ]\n",
    "accuracy_score(y_aux,Y_test)"
   ]
  },
  {
   "cell_type": "markdown",
   "id": "0292929f",
   "metadata": {},
   "source": [
    "We can see from the accuracy_score that we got a perfect accuracy on the testing set "
   ]
  },
  {
   "cell_type": "markdown",
   "id": "df9aaf2e",
   "metadata": {},
   "source": [
    "## Solution ##"
   ]
  },
  {
   "cell_type": "code",
   "execution_count": 29,
   "id": "dd28f8d7",
   "metadata": {},
   "outputs": [],
   "source": [
    "# Q2 (a)\n",
    "# Train classifier and compute training error\n",
    "\n",
    "sigma = 5\n",
    "lam = .5\n",
    "\n",
    "def train_KN(train_ind, lam, sigma):\n",
    "    X_train = X[train_ind]\n",
    "    Y_train = y[train_ind]\n",
    "    n,_ = X_train.shape\n",
    "    distsq = np.zeros((n,n),dtype=float)\n",
    "    \n",
    "    for i in range(0,n):\n",
    "        for j in range(0,n):\n",
    "            d = np.linalg.norm(X_train[i,:]-X_train[j,:])\n",
    "            distsq[i,j] = d**2\n",
    "            \n",
    "    K = np.exp(-distsq/(2*sigma**2))\n",
    "    alpha = np.linalg.inv(K+lam*np.identity(n))@Y_train\n",
    "    \n",
    "    # Predict labels\n",
    "    Yhat = K@alpha\n",
    "    Yhat_predict = np.sign(Yhat)\n",
    "    train_error = np.mean(Y_train != Yhat_predict)\n",
    "    \n",
    "    return alpha, train_error\n",
    "\n",
    "def test_KN(train_ind, test_ind, alpha, sigma):\n",
    "    X_train = X[train_ind]\n",
    "    Y_train = y[train_ind]\n",
    "    X_test = X[test_ind]\n",
    "    Y_test = y[test_ind]\n",
    "    n_train = alpha.shape[0]\n",
    "    n_test,_ = X_test.shape\n",
    "    \n",
    "    distsq = np.zeros((n_test,n_train),dtype = float)\n",
    "    for j in range(0,n_test):\n",
    "        for i in range(0,n_train):\n",
    "            d = np.linalg.norm(X_test[j,:] - X_train[i,:])\n",
    "            distsq[j,i] = d**2\n",
    "    \n",
    "    # predict label\n",
    "    K = np.exp(-distsq/(2*sigma**2))\n",
    "    Yhat = K@alpha\n",
    "    Yhat_predict = np.sign(Yhat)\n",
    "    test_error = np.mean(Y_test != Yhat_predict)\n",
    "    return test_error"
   ]
  },
  {
   "cell_type": "code",
   "execution_count": 30,
   "id": "307a805a",
   "metadata": {},
   "outputs": [
    {
     "data": {
      "text/plain": [
       "Text(0.5, 0, 'sigma')"
      ]
     },
     "execution_count": 30,
     "metadata": {},
     "output_type": "execute_result"
    },
    {
     "data": {
      "image/png": "[encoded data removed]",
      "text/plain": [
       "<Figure size 432x288 with 1 Axes>"
      ]
     },
     "metadata": {
      "needs_background": "light"
     },
     "output_type": "display_data"
    }
   ],
   "source": [
    "# Q2 (b)\n",
    "sigmas = np.linspace(0.1,30,300)\n",
    "errors = []\n",
    "for sigma in sigmas:\n",
    "    alpha, train_error = train_KN(list(range(128)),0.5,sigma)\n",
    "    errors.append(train_error)\n",
    "    \n",
    "plt.plot(sigmas, errors)\n",
    "plt.ylabel('training error')\n",
    "plt.xlabel('sigma')"
   ]
  },
  {
   "cell_type": "markdown",
   "id": "2be53f1d",
   "metadata": {},
   "source": [
    "2b) Yes - the classifier achieves perfect accuracy on the test set when sigma is sufficiently small."
   ]
  },
  {
   "cell_type": "code",
   "execution_count": 31,
   "id": "cf14a33d",
   "metadata": {},
   "outputs": [
    {
     "data": {
      "text/plain": [
       "Text(0.5, 0, 'sigma')"
      ]
     },
     "execution_count": 31,
     "metadata": {},
     "output_type": "execute_result"
    },
    {
     "data": {
      "image/png": "[encoded data removed]",
      "text/plain": [
       "<Figure size 432x288 with 1 Axes>"
      ]
     },
     "metadata": {
      "needs_background": "light"
     },
     "output_type": "display_data"
    }
   ],
   "source": [
    "# Q2 (c)\n",
    "sigmas = np.linspace(0.1,30,300)\n",
    "errors = []\n",
    "for sigma in sigmas:\n",
    "    test_accuracy = []\n",
    "    for i in range(8):\n",
    "        test_ind = np.arange(i*16, (i+1)*16)\n",
    "        train_ind = np.setdiff1d(np.arange(128),test_ind)\n",
    "        alpha, train_error = train_KN(train_ind,0.5,sigma)\n",
    "        error = test_KN(train_ind, test_ind, alpha, sigma)\n",
    "        test_accuracy.append(error)\n",
    "    #print(\"sigma:\",sigma,\"test error:\", np.mean(test_accuracy))\n",
    "    errors.append(np.mean(test_accuracy))\n",
    "    \n",
    "plt.plot(sigmas, errors)\n",
    "plt.ylabel('training error')\n",
    "plt.xlabel('sigma')"
   ]
  },
  {
   "cell_type": "code",
   "execution_count": 32,
   "id": "d2da69e6",
   "metadata": {},
   "outputs": [],
   "source": [
    "# alpha, train_error = train_KN(list(range(128)),0.5,5)\n",
    "# print(train_error)"
   ]
  },
  {
   "cell_type": "markdown",
   "id": "85e5abd3",
   "metadata": {},
   "source": [
    "2c) No, the approach can not achieve perfect test accuracy, but instead achieves around 4% accuracy."
   ]
  }
 ],
 "metadata": {
  "kernelspec": {
   "display_name": "Python 3 (ipykernel)",
   "language": "python",
   "name": "python3"
  },
  "language_info": {
   "codemirror_mode": {
    "name": "ipython",
    "version": 3
   },
   "file_extension": ".py",
   "mimetype": "text/x-python",
   "name": "python",
   "nbconvert_exporter": "python",
   "pygments_lexer": "ipython3",
   "version": "3.9.7"
  }
 },
 "nbformat": 4,
 "nbformat_minor": 5
}
