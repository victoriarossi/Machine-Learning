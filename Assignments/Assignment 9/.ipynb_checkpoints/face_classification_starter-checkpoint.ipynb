{
 "cells": [
  {
   "cell_type": "code",
   "execution_count": 1,
   "metadata": {
    "scrolled": true
   },
   "outputs": [],
   "source": [
    "import numpy as np\n",
    "import pandas as pd\n",
    "import matplotlib.pyplot as plt\n",
    "from scipy.io import loadmat\n",
    "from sklearn.metrics import accuracy_score\n",
    "from sklearn.model_selection import cross_val_score\n",
    "from sklearn.model_selection import train_test_split\n",
    "dataset = loadmat('face_emotion_data.mat')\n",
    "\n",
    "X, y = dataset['X'], dataset['y']\n",
    "n, p = np.shape(X)\n",
    "\n",
    "y[y==-1] = 0  # use 0/1 for labels instead of -1/+1\n",
    "X = np.hstack((np.ones((n,1)), X))  # append a column of ones"
   ]
  },
  {
   "cell_type": "markdown",
   "metadata": {},
   "source": [
    "### 1)\n",
    "#### a)"
   ]
  },
  {
   "cell_type": "code",
   "execution_count": 202,
   "metadata": {},
   "outputs": [],
   "source": [
    "#Logistic function => f(z) = 1/(1+e^(-z))"
   ]
  },
  {
   "cell_type": "code",
   "execution_count": 205,
   "metadata": {},
   "outputs": [],
   "source": [
    "## Train NN\n",
    "Xb = np.hstack((np.ones((n,1)), X))\n",
    "q = np.shape(y)[1] #number of classification problems\n",
    "M = 32 #number of hidden nodes\n",
    "\n",
    "## initial weights\n",
    "V = np.random.randn(M, q); \n",
    "W = np.random.randn(p+2, M);\n",
    "\n",
    "def logsig(_x):\n",
    "    return 1/(1+np.exp(-_x))\n",
    "        \n",
    "H = logsig(Xb@W)\n",
    "Yhat = logsig(H@V)"
   ]
  },
  {
   "cell_type": "code",
   "execution_count": 194,
   "metadata": {},
   "outputs": [
    {
     "data": {
      "text/plain": [
       "[1,\n",
       " 1,\n",
       " 1,\n",
       " 1,\n",
       " 1,\n",
       " 0,\n",
       " 1,\n",
       " 0,\n",
       " 1,\n",
       " 0,\n",
       " 1,\n",
       " 1,\n",
       " 1,\n",
       " 1,\n",
       " 1,\n",
       " 1,\n",
       " 1,\n",
       " 0,\n",
       " 1,\n",
       " 1,\n",
       " 1,\n",
       " 1,\n",
       " 1,\n",
       " 0,\n",
       " 0,\n",
       " 1,\n",
       " 1,\n",
       " 1,\n",
       " 0,\n",
       " 1,\n",
       " 0,\n",
       " 1,\n",
       " 1,\n",
       " 1,\n",
       " 1,\n",
       " 1,\n",
       " 1,\n",
       " 0,\n",
       " 1,\n",
       " 1,\n",
       " 0,\n",
       " 1,\n",
       " 1,\n",
       " 1,\n",
       " 1,\n",
       " 0,\n",
       " 1,\n",
       " 1,\n",
       " 1,\n",
       " 1,\n",
       " 1,\n",
       " 0,\n",
       " 1,\n",
       " 1,\n",
       " 0,\n",
       " 1,\n",
       " 1,\n",
       " 1,\n",
       " 0,\n",
       " 1,\n",
       " 0,\n",
       " 1,\n",
       " 0,\n",
       " 1,\n",
       " 1,\n",
       " 0,\n",
       " 0,\n",
       " 0,\n",
       " 1,\n",
       " 1,\n",
       " 1,\n",
       " 1,\n",
       " 0,\n",
       " 1,\n",
       " 0,\n",
       " 1,\n",
       " 1,\n",
       " 1,\n",
       " 1,\n",
       " 1,\n",
       " 1,\n",
       " 0,\n",
       " 1,\n",
       " 1,\n",
       " 1,\n",
       " 0,\n",
       " 1,\n",
       " 0,\n",
       " 1,\n",
       " 1,\n",
       " 0,\n",
       " 1,\n",
       " 0,\n",
       " 1,\n",
       " 0,\n",
       " 1,\n",
       " 0,\n",
       " 0,\n",
       " 1,\n",
       " 0,\n",
       " 1,\n",
       " 1,\n",
       " 1,\n",
       " 1,\n",
       " 1,\n",
       " 1,\n",
       " 0,\n",
       " 1,\n",
       " 1,\n",
       " 0,\n",
       " 1,\n",
       " 0,\n",
       " 1,\n",
       " 0,\n",
       " 0,\n",
       " 0,\n",
       " 1,\n",
       " 1,\n",
       " 0,\n",
       " 1,\n",
       " 1,\n",
       " 1,\n",
       " 1,\n",
       " 1,\n",
       " 1,\n",
       " 1,\n",
       " 1,\n",
       " 1]"
      ]
     },
     "execution_count": 194,
     "metadata": {},
     "output_type": "execute_result"
    }
   ],
   "source": [
    "Yhat = [1 if i > 0.5 else 0 for i in Yhat ]\n",
    "Yhat"
   ]
  },
  {
   "cell_type": "markdown",
   "metadata": {},
   "source": [
    "#### b)"
   ]
  },
  {
   "cell_type": "code",
   "execution_count": 170,
   "metadata": {},
   "outputs": [
    {
     "data": {
      "text/plain": [
       "<AxesSubplot:xlabel='Epochs', ylabel='Accuracy'>"
      ]
     },
     "execution_count": 170,
     "metadata": {},
     "output_type": "execute_result"
    },
    {
     "data": {
      "image/png": "[encoded data removed]",
      "text/plain": [
       "<Figure size 432x288 with 1 Axes>"
      ]
     },
     "metadata": {
      "needs_background": "light"
     },
     "output_type": "display_data"
    }
   ],
   "source": [
    "L = 40\n",
    "## initial weights\n",
    "V = np.random.randn(M+1, q); \n",
    "W = np.random.randn(p+2, M);\n",
    "\n",
    "alpha = 0.05\n",
    "accuracy = []\n",
    "epochs = []\n",
    "for epoch in range(L):\n",
    "    ind = np.random.permutation(n)\n",
    "    epochs.append(epoch)\n",
    "    for i in ind:\n",
    "        # Forward-propagate\n",
    "        H = logsig(np.hstack((np.ones((1,1)), Xb[[i],:]@W)))\n",
    "        Yhat = logsig(H@V)\n",
    "         # Backpropagate\n",
    "        delta = (Yhat-y[[i],:])*Yhat*(1-Yhat)\n",
    "        Vnew = V-alpha*H.T@delta\n",
    "        gamma = delta@V[1:,:].T*H[:,1:]*(1-H[:,1:])\n",
    "        Wnew = W - alpha*Xb[[i],:].T@gamma\n",
    "        V = Vnew\n",
    "        W = Wnew\n",
    "    H = logsig(np.hstack((np.ones((n,1)), Xb@W)))\n",
    "    Yhat = logsig(H@V)\n",
    "    Yhat = [1 if i > 0.5 else 0 for i in Yhat ]\n",
    "    accuracy.append(accuracy_score( Yhat, y ))\n",
    "df = pd.DataFrame({\"Epochs\":epochs,\"Accuracy\":accuracy})\n",
    "df.plot.scatter(\"Epochs\",\"Accuracy\")"
   ]
  },
  {
   "cell_type": "markdown",
   "metadata": {},
   "source": [
    "It takes about 35 epochs to reach 0% of error in the training set. "
   ]
  },
  {
   "cell_type": "markdown",
   "metadata": {},
   "source": [
    "#### c)"
   ]
  },
  {
   "cell_type": "code",
   "execution_count": 224,
   "metadata": {},
   "outputs": [
    {
     "data": {
      "image/png": "[encoded data removed]",
      "text/plain": [
       "<Figure size 432x288 with 1 Axes>"
      ]
     },
     "metadata": {
      "needs_background": "light"
     },
     "output_type": "display_data"
    },
    {
     "data": {
      "image/png": "[encoded data removed]",
      "text/plain": [
       "<Figure size 432x288 with 1 Axes>"
      ]
     },
     "metadata": {
      "needs_background": "light"
     },
     "output_type": "display_data"
    },
    {
     "data": {
      "image/png": "[encoded data removed]",
      "text/plain": [
       "<Figure size 432x288 with 1 Axes>"
      ]
     },
     "metadata": {
      "needs_background": "light"
     },
     "output_type": "display_data"
    },
    {
     "data": {
      "image/png": "[encoded data removed]",
      "text/plain": [
       "<Figure size 432x288 with 1 Axes>"
      ]
     },
     "metadata": {
      "needs_background": "light"
     },
     "output_type": "display_data"
    },
    {
     "data": {
      "image/png": "[encoded data removed]",
      "text/plain": [
       "<Figure size 432x288 with 1 Axes>"
      ]
     },
     "metadata": {
      "needs_background": "light"
     },
     "output_type": "display_data"
    },
    {
     "data": {
      "image/png": "[encoded data removed]",
      "text/plain": [
       "<Figure size 432x288 with 1 Axes>"
      ]
     },
     "metadata": {
      "needs_background": "light"
     },
     "output_type": "display_data"
    },
    {
     "data": {
      "image/png": "[encoded data removed]",
      "text/plain": [
       "<Figure size 432x288 with 1 Axes>"
      ]
     },
     "metadata": {
      "needs_background": "light"
     },
     "output_type": "display_data"
    },
    {
     "data": {
      "image/png": "[encoded data removed]",
      "text/plain": [
       "<Figure size 432x288 with 1 Axes>"
      ]
     },
     "metadata": {
      "needs_background": "light"
     },
     "output_type": "display_data"
    }
   ],
   "source": [
    "L = 40\n",
    "alpha = 0.05\n",
    "\n",
    "for j in range(0,8):\n",
    "    X_train, X_test, Y_train, Y_test = train_test_split(Xb, y, test_size = 0.2)\n",
    "    q = np.shape(Y_train)[1]\n",
    "    M = 32\n",
    "    V = np.random.randn(M+1, q); \n",
    "    W = np.random.randn(p+2, M);\n",
    "    accuracy = []\n",
    "    epochs = []\n",
    "    for epoch in range(L):\n",
    "        ind = np.random.permutation(len(X_train))\n",
    "        epochs.append(epoch)\n",
    "        for i in ind:\n",
    "            # Forward-propagate\n",
    "            H = logsig(np.hstack((np.ones((1,1)), X_train[[i],:]@W)))\n",
    "            Yhat = logsig(H@V)\n",
    "             # Backpropagate\n",
    "            delta = (Yhat-Y_train[[i],:])*Yhat*(1-Yhat)\n",
    "            Vnew = V-alpha*H.T@delta\n",
    "            gamma = delta@V[1:,:].T*H[:,1:]*(1-H[:,1:])\n",
    "            Wnew = W - alpha*X_train[[i],:].T@gamma\n",
    "            V = Vnew\n",
    "            W = Wnew\n",
    "        H = logsig(np.hstack((np.ones((len(X_test),1)), X_test@W)))\n",
    "        Yhat = logsig(H@V)\n",
    "        Yhat = [1 if i > 0.5 else 0 for i in Yhat ]\n",
    "        accuracy.append(accuracy_score( Yhat, Y_test ))\n",
    "    df = pd.DataFrame({\"Epochs\":epochs,\"Accuracy\":accuracy})\n",
    "    df.plot.scatter(\"Epochs\",\"Accuracy\")"
   ]
  },
  {
   "cell_type": "markdown",
   "metadata": {},
   "source": [
    "Now as wee can see on the graphs, that the amount of epochs variates depending on the way we select the training and the testing set. "
   ]
  },
  {
   "cell_type": "markdown",
   "metadata": {},
   "source": [
    "### Solution ####"
   ]
  },
  {
   "cell_type": "code",
   "execution_count": 2,
   "metadata": {},
   "outputs": [],
   "source": [
    "def logsig(_x):\n",
    "    return 1/(1+np.exp(-_x))\n",
    "\n",
    "def train(train_inds):\n",
    "    \"\"\"\n",
    "    takes a list of indices and trains a 1-hidden layer network with a single output\n",
    "    return weigths of network in matrices W, V and an list with the error rate as function of epoch\n",
    "    \"\"\"\n",
    "    \n",
    "    Xb = X[train_inds]\n",
    "    Y = y[train_inds]\n",
    "    \n",
    "    n,p = np.shape(Xb)\n",
    "    \n",
    "    ## initial weights\n",
    "    V = np.random.randn(M+1,1);\n",
    "    W = np.random.randn(p,M); # p is the number of inputs, bias included\n",
    "    \n",
    "    training_error = []\n",
    "    \n",
    "    for epoch in range(L):\n",
    "        ind = np.random.permutation(n)\n",
    "        for i in ind:\n",
    "            # Forward-propagate\n",
    "            H = logsig(np.hstack((np.ones((1,1)), Xb[[i],:]@W)))\n",
    "            Yhat = logsig(H@V)\n",
    "             # Backpropagate\n",
    "            delta = (Yhat-Y[[i],:])*Yhat*(1-Yhat)\n",
    "            Vnew = V-alpha*H.T@delta\n",
    "            gamma = delta@V[1:,:].T*H[:,1:]*(1-H[:,1:])\n",
    "            Wnew = W - alpha*Xb[[i],:].T@gamma\n",
    "            V = Vnew\n",
    "            W = Wnew\n",
    "        ## compute training error\n",
    "        H = logsig(np.hstack((np.ones((n,1)), Xb@W)))\n",
    "        Yhat = logsig(H@V)\n",
    "        training_error.append(np.mean(abs(np.round(Yhat[:,0])-Y[:,0])))\n",
    "    return W,V,training_error\n",
    "\n",
    "def test(test_inds, W, V):\n",
    "    X_test = X[test_inds]\n",
    "    y_test = y[test_inds]\n",
    "    nt, _ = np.shape(X_test)\n",
    "    \n",
    "    H = logsig(np.hstack((np.ones((nt,1)), X_test@W)))\n",
    "    Yhat = logsig(H@V)\n",
    "    return np.mean(abs(np.round(Yhat[:,0]) - y_test[:,0]))"
   ]
  },
  {
   "cell_type": "code",
   "execution_count": 3,
   "metadata": {},
   "outputs": [
    {
     "data": {
      "text/plain": [
       "Text(0.5, 0, 'epochs')"
      ]
     },
     "execution_count": 3,
     "metadata": {},
     "output_type": "execute_result"
    },
    {
     "data": {
      "image/png": "[encoded data removed]",
      "text/plain": [
       "<Figure size 432x288 with 1 Axes>"
      ]
     },
     "metadata": {
      "needs_background": "light"
     },
     "output_type": "display_data"
    }
   ],
   "source": [
    "#Q1 (b)\n",
    "\n",
    "alpha = .05 #step size\n",
    "L = 200 #number of epochs\n",
    "M = 32 # number of hidden nodes\n",
    "\n",
    "for i in range(20):\n",
    "    _,_,training_error = train(list(range(128)))\n",
    "    plt.plot(training_error)\n",
    "\n",
    "plt.ylabel('training error')\n",
    "plt.xlabel('epochs')"
   ]
  },
  {
   "cell_type": "markdown",
   "metadata": {},
   "source": [
    "1b) The classifier achieves 0% error on the test set. The number of epochs required to achieve 0% error depends on the particular run (where the randomness comes from SGD)"
   ]
  },
  {
   "cell_type": "code",
   "execution_count": 4,
   "metadata": {},
   "outputs": [
    {
     "name": "stdout",
     "output_type": "stream",
     "text": [
      "Iteration: 0 test_accuracy: 0.046875\n",
      "Iteration: 1 test_accuracy: 0.0546875\n",
      "Iteration: 2 test_accuracy: 0.0390625\n",
      "Iteration: 3 test_accuracy: 0.03125\n",
      "Iteration: 4 test_accuracy: 0.03125\n",
      "Iteration: 5 test_accuracy: 0.03125\n",
      "Iteration: 6 test_accuracy: 0.046875\n",
      "Iteration: 7 test_accuracy: 0.0390625\n",
      "Iteration: 8 test_accuracy: 0.1015625\n",
      "Iteration: 9 test_accuracy: 0.03125\n"
     ]
    }
   ],
   "source": [
    "# Q1 (c)\n",
    "\n",
    "alpha = .05 #step size\n",
    "L = 200 #number of epochs\n",
    "M = 32 # number of hidden nodes\n",
    "\n",
    "for ite in range(10):\n",
    "    test_accuracy = []\n",
    "    for i in range(8):\n",
    "        test_ind = np.arange(i*16,(i+1)*16)\n",
    "        train_ind = np.setdiff1d(np.arange(128),test_ind)\n",
    "        W,V,training_error = train(train_ind)\n",
    "        error = test(test_ind, W,V)\n",
    "        test_accuracy.append(error)\n",
    "    print(\"Iteration:\",ite,\"test_accuracy:\",np.mean(test_accuracy))"
   ]
  },
  {
   "cell_type": "markdown",
   "metadata": {},
   "source": [
    "1c) It does not appear possible to achieve perfect classification accuracy. Note that the accuracy varies significantly from 1.5% to 4.6% depending on the run."
   ]
  }
 ],
 "metadata": {
  "kernelspec": {
   "display_name": "Python 3 (ipykernel)",
   "language": "python",
   "name": "python3"
  },
  "language_info": {
   "codemirror_mode": {
    "name": "ipython",
    "version": 3
   },
   "file_extension": ".py",
   "mimetype": "text/x-python",
   "name": "python",
   "nbconvert_exporter": "python",
   "pygments_lexer": "ipython3",
   "version": "3.9.7"
  }
 },
 "nbformat": 4,
 "nbformat_minor": 2
}
