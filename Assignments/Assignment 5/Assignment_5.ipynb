{
 "cells": [
  {
   "cell_type": "code",
   "execution_count": 2,
   "id": "5e367fcf",
   "metadata": {},
   "outputs": [],
   "source": [
    "# c)\n",
    "import numpy as np\n",
    "import matplotlib.pyplot as plt "
   ]
  },
  {
   "cell_type": "code",
   "execution_count": 3,
   "id": "9de70f4f",
   "metadata": {},
   "outputs": [],
   "source": [
    "gamma = 0.1\n",
    "U = (1/2)*np.array([[1,1],[1,-1],[1,-1],[1,1]])\n",
    "S_matrix = np.array([[1,0],[0,gamma]])\n",
    "V = (1/((2)*1/2))*np.array([[1,1],[1,-1]]) \n",
    "VT = V.transpose()\n",
    "A = U@S_matrix@VT"
   ]
  },
  {
   "cell_type": "code",
   "execution_count": 9,
   "id": "599dfce9",
   "metadata": {},
   "outputs": [
    {
     "data": {
      "text/plain": [
       "array([[0.5, 0.5],\n",
       "       [0.5, 0.5],\n",
       "       [0.5, 0.5],\n",
       "       [0.5, 0.5]])"
      ]
     },
     "execution_count": 9,
     "metadata": {},
     "output_type": "execute_result"
    },
    {
     "data": {
      "image/png": "[encoded data removed]",
      "text/plain": [
       "<Figure size 432x288 with 1 Axes>"
      ]
     },
     "metadata": {
      "needs_background": "light"
     },
     "output_type": "display_data"
    },
    {
     "data": {
      "image/png": "[encoded data removed]",
      "text/plain": [
       "<Figure size 432x288 with 1 Axes>"
      ]
     },
     "metadata": {
      "needs_background": "light"
     },
     "output_type": "display_data"
    }
   ],
   "source": [
    "# display images of various rank approximations\n",
    "\n",
    "# original matrix\n",
    "plt.figure(num=None)\n",
    "for (j,i),label in np.ndenumerate(A):\n",
    "    plt.text(i,j,np.round(label,1),ha='center',va='center')\n",
    "plt.imshow(A, vmin=-5, vmax=5, interpolation='none', cmap='gray')\n",
    "plt.title('Original matrix' )\n",
    "\n",
    "# rank-1 aprox\n",
    "A_rank_r_approx = S_matrix[0,0]*U[:,0:1]@VT[0:1,:]\n",
    "plt.figure(num=None)\n",
    "for (j,i),label in np.ndenumerate(A_rank_r_approx):\n",
    "    plt.text(i,j,np.round(label,1),ha='center',va='center')\n",
    "plt.imshow(A_rank_r_approx, vmin=-10, vmax=10, interpolation='none', cmap='gray')\n",
    "plt.title('rank ' + str(1) + ' approximation'  ) "
   ]
  },
  {
   "cell_type": "code",
   "execution_count": 10,
   "id": "335d3c2f",
   "metadata": {},
   "outputs": [
    {
     "name": "stdout",
     "output_type": "stream",
     "text": [
      "[[0.5 0.5]\n",
      " [0.5 0.5]\n",
      " [0.5 0.5]\n",
      " [0.5 0.5]]\n",
      "[[0.5]\n",
      " [0.5]\n",
      " [0.5]\n",
      " [0.5]]\n",
      "[[1. 1.]]\n"
     ]
    }
   ],
   "source": [
    "print(U[:,0:1]@VT[0:1,:])\n",
    "print(U[:,0:1])\n",
    "print(VT[0:1,:])"
   ]
  }
 ],
 "metadata": {
  "kernelspec": {
   "display_name": "Python 3 (ipykernel)",
   "language": "python",
   "name": "python3"
  },
  "language_info": {
   "codemirror_mode": {
    "name": "ipython",
    "version": 3
   },
   "file_extension": ".py",
   "mimetype": "text/x-python",
   "name": "python",
   "nbconvert_exporter": "python",
   "pygments_lexer": "ipython3",
   "version": "3.9.2"
  }
 },
 "nbformat": 4,
 "nbformat_minor": 5
}
